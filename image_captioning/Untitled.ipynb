{
 "cells": [
  {
   "cell_type": "code",
   "execution_count": 5,
   "metadata": {},
   "outputs": [],
   "source": [
    "import numpy as np  \n",
    "# data processing, CSV file I / O (e.g. pd.read_csv)\n",
    "import pandas as pd  \n",
    "import os\n",
    "import pickle\n",
    "import tensorflow as tf\n",
    "from keras.preprocessing.sequence import pad_sequences\n",
    "from keras.preprocessing.text import Tokenizer\n",
    "from keras.models import Model\n",
    "from keras.layers import Flatten, Dense, LSTM, Dropout, Embedding, Activation\n",
    "from keras.layers import concatenate, BatchNormalization, Input\n",
    "from keras.layers.merge import add\n",
    "from keras.utils import to_categorical, plot_model\n",
    "from keras.applications.inception_v3 import InceptionV3, preprocess_input\n",
    "import matplotlib.pyplot as plt  # for plotting data\n",
    "import cv2"
   ]
  },
  {
   "cell_type": "code",
   "execution_count": 15,
   "metadata": {},
   "outputs": [
    {
     "name": "stdout",
     "output_type": "stream",
     "text": [
      "A child in a pink dress is climbing up a set of stairs in an entry way .\n",
      "A girl going into a wooden building .\n",
      "A little girl climbing into a wooden playhouse .\n",
      "A little girl climbing the stairs to her playhouse .\n",
      "A little girl in a pink dress going into a wooden cabin .\n"
     ]
    }
   ],
   "source": [
    "def load_description(text):\n",
    "    mapping = dict()\n",
    "    for line in text.split(\"\\n\"):\n",
    "        token = line.split(\"\\t\")\n",
    "        if len(line) < 2: # remove short descriptions\n",
    "            continue\n",
    "        img_id = token[0].split('.')[0] # name of the image\n",
    "        img_des = token[1] # description of the image\n",
    "        if img_id not in mapping:\n",
    "            mapping[img_id] = list()\n",
    "        mapping[img_id].append(img_des)\n",
    "    return mapping\n",
    "\n",
    "token_path = \"/Users/vishwas/Downloads/t81_558_deep_learning-master/data/captions/Flickr8k_text/Flickr8k.token.txt\"\n",
    "text = open(token_path, 'r', encoding = 'utf-8').read()\n",
    "descriptions = load_description(text)\n",
    "for i in descriptions['1000268201_693b08cb0e']:\n",
    "    print(i)\n",
    "\n"
   ]
  },
  {
   "cell_type": "code",
   "execution_count": 17,
   "metadata": {},
   "outputs": [
    {
     "data": {
      "text/plain": [
       "['child in pink dress is climbing up set of stairs in an entry way',\n",
       " 'girl going into wooden building',\n",
       " 'little girl climbing into wooden playhouse',\n",
       " 'little girl climbing the stairs to her playhouse',\n",
       " 'little girl in pink dress going into wooden cabin']"
      ]
     },
     "execution_count": 17,
     "metadata": {},
     "output_type": "execute_result"
    }
   ],
   "source": [
    "import string\n",
    "def clean_description(desc):\n",
    "    for key, des_list in desc.items():\n",
    "        for i in range(len(des_list)):\n",
    "            caption = des_list[i]\n",
    "            caption = [ch for ch in caption if ch not in string.punctuation]\n",
    "            caption = ''.join(caption)\n",
    "            caption = caption.split(' ')\n",
    "            caption = [word.lower() for word in caption if len(word)>1 and word.isalpha()]\n",
    "            caption = ' '.join(caption)\n",
    "            des_list[i] = caption\n",
    "  \n",
    "clean_description(descriptions)\n",
    "descriptions['1000268201_693b08cb0e']"
   ]
  },
  {
   "cell_type": "code",
   "execution_count": 29,
   "metadata": {},
   "outputs": [
    {
     "name": "stdout",
     "output_type": "stream",
     "text": [
      "['samoyads', 'furniture', 'toetouch', 'skills', 'berets', 'exterior', 'rollerblading', 'wringing', 'dust', 'badminton']\n"
     ]
    },
    {
     "data": {
      "text/plain": [
       "set"
      ]
     },
     "execution_count": 29,
     "metadata": {},
     "output_type": "execute_result"
    }
   ],
   "source": [
    "def to_vocab(desc):\n",
    "    words = set()\n",
    "    for key in desc.keys():\n",
    "        for line in desc[key]:\n",
    "            words.update(line.split())\n",
    "    return words\n",
    "vocab = to_vocab(descriptions)\n",
    "print(list(vocab)[:10])\n",
    "type(vocab)"
   ]
  },
  {
   "cell_type": "code",
   "execution_count": 46,
   "metadata": {},
   "outputs": [
    {
     "name": "stdout",
     "output_type": "stream",
     "text": [
      "['startseq child in pink dress is climbing up set of stairs in an entry way endseq', 'startseq girl going into wooden building endseq', 'startseq little girl climbing into wooden playhouse endseq', 'startseq little girl climbing the stairs to her playhouse endseq', 'startseq little girl in pink dress going into wooden cabin endseq']\n"
     ]
    }
   ],
   "source": [
    "import glob\n",
    "images = '/Users/vishwas/Downloads/t81_558_deep_learning-master/data/captions/Flicker8k_Dataset/'\n",
    "# Create a list of all image names in the directory\n",
    "img = glob.glob(images + '*.jpg')\n",
    "\n",
    "train_path = '/Users/vishwas/Downloads/t81_558_deep_learning-master/data/captions/Flickr8k_text/Flickr_8k.trainImages.txt'\n",
    "train_images = open(train_path, 'r', encoding = 'utf-8').read().split(\"\\n\")\n",
    "\n",
    "train_img = []  # list of all images in training set\n",
    "for im in img:\n",
    "    if(im[len(images):] in train_images):\n",
    "        train_img.append(im)\n",
    "          \n",
    "# load descriptions of training set in a dictionary. Name of the image will act as ey\n",
    "def load_clean_descriptions(des, dataset):\n",
    "    dataset_des = dict()\n",
    "    for key, des_list in des.items():\n",
    "        if key+'.jpg' in dataset:\n",
    "            if key not in dataset_des:\n",
    "                dataset_des[key] = list()\n",
    "            for line in des_list:\n",
    "                desc = 'startseq ' + line + ' endseq'\n",
    "                dataset_des[key].append(desc)\n",
    "    return dataset_des\n",
    "  \n",
    "train_descriptions = load_clean_descriptions(descriptions, train_images)\n",
    "print(train_descriptions['1000268201_693b08cb0e'])"
   ]
  },
  {
   "cell_type": "code",
   "execution_count": 58,
   "metadata": {},
   "outputs": [],
   "source": [
    "from keras.preprocessing.image import load_img, img_to_array\n",
    "def preprocess_img(img_path):\n",
    "    # inception v3 excepts img in 299 * 299 * 3\n",
    "    img = load_img(img_path, target_size = (299, 299))\n",
    "    x = img_to_array(img)\n",
    "    # Add one more dimension\n",
    "    x = np.expand_dims(x, axis = 0)\n",
    "    x = preprocess_input(x)\n",
    "    return x\n",
    "  \n",
    "def encode(image):\n",
    "    image = preprocess_img(image)\n",
    "    vec = model.predict(image)\n",
    "    vec = np.reshape(vec, (vec.shape[1]))\n",
    "    return vec\n",
    "train_path = os.path.join(\"/Users/vishwas/Desktop/image_captioning/\",f'train{OUTPUT_DIM}.pkl')\n",
    "if not os.path.exists(train_path):  \n",
    "    base_model = InceptionV3(weights = 'imagenet')\n",
    "    model = Model(base_model.input, base_model.layers[-2].output)\n",
    "    # run the encode function on all train images and store the feature vectors in a list\n",
    "    encoding_train = {}\n",
    "    for img in train_img:\n",
    "        encoding_train[img[len(images):]] = encode(img)\n",
    "    OUTPUT_DIM = 2048\n",
    "    with open(train_path, \"wb\") as fp:\n",
    "        pickle.dump(encoding_train, fp)\n",
    "else:\n",
    "    with open(train_path, \"rb\") as fp:\n",
    "        encoding_test = pickle.load(fp)\n"
   ]
  },
  {
   "cell_type": "code",
   "execution_count": 67,
   "metadata": {},
   "outputs": [
    {
     "name": "stdout",
     "output_type": "stream",
     "text": [
      "34\n"
     ]
    },
    {
     "data": {
      "text/plain": [
       "30000"
      ]
     },
     "execution_count": 67,
     "metadata": {},
     "output_type": "execute_result"
    }
   ],
   "source": [
    "# list of all training captions\n",
    "all_train_captions = []\n",
    "for key, val in train_descriptions.items():\n",
    "    for caption in val:\n",
    "        all_train_captions.append(caption)\n",
    "  \n",
    "# consider only words which occur atleast 10 times\n",
    "vocabulary = vocab\n",
    "threshold = 10 # you can change this value according to your need\n",
    "word_counts = {}\n",
    "for cap in all_train_captions:\n",
    "    for word in cap.split(' '):\n",
    "        word_counts[word] = word_counts.get(word, 0) + 1\n",
    "  \n",
    "vocab = [word for word in word_counts if word_counts[word] >= threshold]\n",
    "  \n",
    "# word mapping to integers\n",
    "ixtoword = {}\n",
    "wordtoix = {}\n",
    "  \n",
    "ix = 1\n",
    "for word in vocab:\n",
    "    wordtoix[word] = ix\n",
    "    ixtoword[ix] = word\n",
    "    ix += 1\n",
    "vocab_size = len(ixtoword) + 1 \n",
    "vocab_size      \n",
    "# find the maximum length of a description in a dataset\n",
    "max_length = max(len(des.split()) for des in all_train_captions)\n",
    "print(max_length)\n",
    "len(all_train_captions)"
   ]
  },
  {
   "cell_type": "code",
   "execution_count": null,
   "metadata": {},
   "outputs": [],
   "source": []
  },
  {
   "cell_type": "code",
   "execution_count": 70,
   "metadata": {},
   "outputs": [
    {
     "ename": "IsADirectoryError",
     "evalue": "[Errno 21] Is a directory: '/Users/vishwas/Downloads/t81_558_deep_learning-master/data/captions/glove.6B'",
     "output_type": "error",
     "traceback": [
      "\u001b[0;31m---------------------------------------------------------------------------\u001b[0m",
      "\u001b[0;31mIsADirectoryError\u001b[0m                         Traceback (most recent call last)",
      "\u001b[0;32m<ipython-input-70-70706975f44f>\u001b[0m in \u001b[0;36m<module>\u001b[0;34m\u001b[0m\n\u001b[1;32m     20\u001b[0m \u001b[0membeddings_index\u001b[0m \u001b[0;34m=\u001b[0m \u001b[0;34m{\u001b[0m\u001b[0;34m}\u001b[0m\u001b[0;34m\u001b[0m\u001b[0;34m\u001b[0m\u001b[0m\n\u001b[1;32m     21\u001b[0m \u001b[0mgolve_path\u001b[0m \u001b[0;34m=\u001b[0m\u001b[0;34m'/Users/vishwas/Downloads/t81_558_deep_learning-master/data/captions/glove.6B'\u001b[0m\u001b[0;34m\u001b[0m\u001b[0;34m\u001b[0m\u001b[0m\n\u001b[0;32m---> 22\u001b[0;31m \u001b[0mglove\u001b[0m \u001b[0;34m=\u001b[0m \u001b[0mopen\u001b[0m\u001b[0;34m(\u001b[0m\u001b[0mgolve_path\u001b[0m\u001b[0;34m,\u001b[0m \u001b[0;34m'r'\u001b[0m\u001b[0;34m,\u001b[0m \u001b[0mencoding\u001b[0m \u001b[0;34m=\u001b[0m \u001b[0;34m'utf-8'\u001b[0m\u001b[0;34m)\u001b[0m\u001b[0;34m.\u001b[0m\u001b[0mread\u001b[0m\u001b[0;34m(\u001b[0m\u001b[0;34m)\u001b[0m\u001b[0;34m\u001b[0m\u001b[0;34m\u001b[0m\u001b[0m\n\u001b[0m\u001b[1;32m     23\u001b[0m \u001b[0;32mfor\u001b[0m \u001b[0mline\u001b[0m \u001b[0;32min\u001b[0m \u001b[0mglove\u001b[0m\u001b[0;34m.\u001b[0m\u001b[0msplit\u001b[0m\u001b[0;34m(\u001b[0m\u001b[0;34m\"\\n\"\u001b[0m\u001b[0;34m)\u001b[0m\u001b[0;34m:\u001b[0m\u001b[0;34m\u001b[0m\u001b[0;34m\u001b[0m\u001b[0m\n\u001b[1;32m     24\u001b[0m     \u001b[0mvalues\u001b[0m \u001b[0;34m=\u001b[0m \u001b[0mline\u001b[0m\u001b[0;34m.\u001b[0m\u001b[0msplit\u001b[0m\u001b[0;34m(\u001b[0m\u001b[0;34m\" \"\u001b[0m\u001b[0;34m)\u001b[0m\u001b[0;34m\u001b[0m\u001b[0;34m\u001b[0m\u001b[0m\n",
      "\u001b[0;31mIsADirectoryError\u001b[0m: [Errno 21] Is a directory: '/Users/vishwas/Downloads/t81_558_deep_learning-master/data/captions/glove.6B'"
     ]
    }
   ],
   "source": [
    "X1, X2, y = list(), list(), list()\n",
    "for key, des_list in train_descriptions.items():\n",
    "    pic = encoding_test[key + '.jpg']\n",
    "    for cap in des_list:\n",
    "        seq = [wordtoix[word] for word in cap.split(' ') if word in wordtoix]\n",
    "        for i in range(1, len(seq)):\n",
    "            in_seq, out_seq = seq[:i], seq[i]\n",
    "            in_seq = pad_sequences([in_seq], maxlen = max_length)[0]\n",
    "            out_seq = to_categorical([out_seq], num_classes = vocab_size)[0]\n",
    "            # store\n",
    "            X1.append(pic)\n",
    "            X2.append(in_seq)\n",
    "            y.append(out_seq)\n",
    "  \n",
    "X2 = np.array(X2)\n",
    "X1 = np.array(X1)\n",
    "y = np.array(y)\n",
    "  \n",
    "# load glove vectors for embedding layer\n",
    "embeddings_index = {}\n",
    "golve_path ='/Users/vishwas/Downloads/t81_558_deep_learning-master/data/captions/glove.6B'\n",
    "\n",
    "glove = open(golve_path, 'r', encoding = 'utf-8').read()\n",
    "for line in glove.split(\"\\n\"):\n",
    "    values = line.split(\" \")\n",
    "    word = values[0]\n",
    "    indices = np.asarray(values[1: ], dtype = 'float32')\n",
    "    embeddings_index[word] = indices\n",
    "  \n",
    "emb_dim = 200\n",
    "emb_matrix = np.zeros((vocab_size, emb_dim))\n",
    "for word, i in wordtoix.items():\n",
    "    emb_vec = embeddings_index.get(word)\n",
    "    if emb_vec is not None:\n",
    "        emb_matrix[i] = emb_vec\n",
    "emb_matrix.shape"
   ]
  },
  {
   "cell_type": "code",
   "execution_count": 55,
   "metadata": {},
   "outputs": [],
   "source": []
  },
  {
   "cell_type": "code",
   "execution_count": null,
   "metadata": {},
   "outputs": [],
   "source": []
  }
 ],
 "metadata": {
  "kernelspec": {
   "display_name": "Python 3",
   "language": "python",
   "name": "python3"
  },
  "language_info": {
   "codemirror_mode": {
    "name": "ipython",
    "version": 3
   },
   "file_extension": ".py",
   "mimetype": "text/x-python",
   "name": "python",
   "nbconvert_exporter": "python",
   "pygments_lexer": "ipython3",
   "version": "3.7.4"
  }
 },
 "nbformat": 4,
 "nbformat_minor": 4
}
